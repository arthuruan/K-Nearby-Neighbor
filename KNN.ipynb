{
  "nbformat": 4,
  "nbformat_minor": 0,
  "metadata": {
    "kernelspec": {
      "display_name": "Python 3",
      "language": "python",
      "name": "python3"
    },
    "language_info": {
      "codemirror_mode": {
        "name": "ipython",
        "version": 3
      },
      "file_extension": ".py",
      "mimetype": "text/x-python",
      "name": "python",
      "nbconvert_exporter": "python",
      "pygments_lexer": "ipython3",
      "version": "3.7.8"
    },
    "colab": {
      "name": "KNN.ipynb",
      "provenance": [],
      "collapsed_sections": []
    }
  },
  "cells": [
    {
      "cell_type": "markdown",
      "metadata": {
        "id": "RdxcBndqOFof"
      },
      "source": [
        "# Questão\n",
        "Em um Jupyter Notebook (link do collab ou arquivo), utilize o método K vizinhos mais próximos no problema supervisionado escolhido na Questão 2 OU 3 e:\n",
        "\n",
        "1. Aplique e explique os processos de pré-processamento necessários para execução do método K-NN.\n",
        "2. Escolha 5 valores de K e mostre os resultados (escolha uma métrica)?\n",
        "3. Escolha 2 métricas de similaridade (diferentes distâncias ou outras métricas) para definir o(s) vizinho(s) mais próximos?"
      ]
    },
    {
      "cell_type": "markdown",
      "metadata": {
        "id": "2CPukbn1OFog"
      },
      "source": [
        "### Base usada (Questão 3) :\n",
        "\n",
        "https://www.kaggle.com/priyanka841/breast-cancer-wisconsin?select=breast+cancer.csv"
      ]
    },
    {
      "cell_type": "markdown",
      "metadata": {
        "id": "hkFWPGNNC7KK"
      },
      "source": [
        "### Código"
      ]
    },
    {
      "cell_type": "code",
      "metadata": {
        "id": "Go-9Es3iOFoh",
        "outputId": "b8d98730-5b6a-472f-fd12-82ede4739183",
        "colab": {
          "base_uri": "https://localhost:8080/",
          "height": 432
        }
      },
      "source": [
        "import csv\n",
        "import matplotlib.pyplot as plt\n",
        "import numpy as np\n",
        "from sklearn import cluster, neighbors, svm, metrics, preprocessing\n",
        "from sklearn.metrics import classification_report, confusion_matrix, plot_confusion_matrix\n",
        "from sklearn.model_selection import train_test_split\n",
        "\n",
        "with open('sample_data/breast_cancer.csv', newline='') as csvfile:\n",
        "    spamreader = csv.reader(csvfile, quotechar='|')\n",
        "    \n",
        "    X = []\n",
        "    y = []\n",
        "    \n",
        "    a = []\n",
        "    \n",
        "    for row in spamreader: # lendo informações do arquivo e adicionando num array\n",
        "        a.append(row)\n",
        "    \n",
        "    a = a[1:]\n",
        "    \n",
        "    for row in a: \n",
        "        X.append(row[2:]) # retirando as 2 primeiras colunas que não serão utilizadas\n",
        "\n",
        "        if (row[1] == 'B'): # fazendo o one hot encoding\n",
        "            y.append(0)\n",
        "        else:\n",
        "            y.append(1)\n",
        "\n",
        "        \n",
        "    X = np.array(X, dtype = np.float64) # transformando itens do array de string para float\n",
        "\n",
        "    X_train, X_test, y_train, y_test = train_test_split(X, y, test_size=0.20)\n",
        "        \n",
        "    knn = neighbors.KNeighborsClassifier(n_neighbors = 7, algorithm = \"auto\", metric = \"manhattan\")\n",
        "    knn.fit(X_train, y_train)\n",
        "    resultKNN = knn.predict(X_test)\n",
        "\n",
        "    print(classification_report(y_test, resultKNN))\n",
        "    \n",
        "    plot_confusion_matrix(knn, X_test, y_test, cmap=plt.cm.Blues)\n",
        "    plt.show()\n"
      ],
      "execution_count": 23,
      "outputs": [
        {
          "output_type": "stream",
          "text": [
            "              precision    recall  f1-score   support\n",
            "\n",
            "           0       0.99      0.97      0.98        75\n",
            "           1       0.95      0.97      0.96        39\n",
            "\n",
            "    accuracy                           0.97       114\n",
            "   macro avg       0.97      0.97      0.97       114\n",
            "weighted avg       0.97      0.97      0.97       114\n",
            "\n"
          ],
          "name": "stdout"
        },
        {
          "output_type": "display_data",
          "data": {
            "image/png": "[encoded data removed]",
            "text/plain": [
              "<Figure size 432x288 with 2 Axes>"
            ]
          },
          "metadata": {
            "tags": [],
            "needs_background": "light"
          }
        }
      ]
    },
    {
      "cell_type": "markdown",
      "metadata": {
        "id": "pXId9Ke3Ee28"
      },
      "source": [
        "### Respostas\n",
        "\n",
        "1. Primeiro foi retirado as 2 primeiras colunas da tabela para a criação do conjunto de testes, pois a primeira é a de `IDs` de cada amostra e não será usada no treinamento, a segunda coluna foi retirada, pois é o resultado de cada amostra (será usado para a criação do conjunto de saída). Segundamente foi utilizado o método de **one-hot-enconde** para formatação do conjunto de saída (M foi substituído para 0 e B para 1). Por fim, os valores do conjunto de treinamento foram transformados de `string` para float, pois na leitura os números vinheram do tipo `string`.\n",
        "\n",
        "2. e 3. Valores de K e a métrica foram substituídos no código a cima:\n",
        "\n",
        "- Métrica usada nesta tabela foi a **euclidean**, com 5 valores de **K** diferentes\n",
        "  \n",
        "\n",
        "| K | Acurácia |\n",
        "| - | :------: |\n",
        "| 1 |   0.91   |\n",
        "| 3 |   0.89   |\n",
        "| 5 |   0.96   |\n",
        "| 7 |   0.89   |\n",
        "| 9 |   0.89   |\n",
        "\n",
        " - Métrica usada nesta tabela foi a **manhattan**, com 5 valores de **K** diferentes\n",
        "\n",
        "| K | Acurácia |\n",
        "| - | :------: |\n",
        "| 1 |   0.92   |\n",
        "| 3 |   0.89   |\n",
        "| 5 |   0.93   |\n",
        "| 7 |   0.97   |\n",
        "| 9 |   0.93   |\n"
      ]
    }
  ]
}