{
  "nbformat": 4,
  "nbformat_minor": 0,
  "metadata": {
    "kernelspec": {
      "display_name": "Python 3",
      "language": "python",
      "name": "python3"
    },
    "language_info": {
      "codemirror_mode": {
        "name": "ipython",
        "version": 3
      },
      "file_extension": ".py",
      "mimetype": "text/x-python",
      "name": "python",
      "nbconvert_exporter": "python",
      "pygments_lexer": "ipython3",
      "version": "3.7.8"
    },
    "colab": {
      "name": "KNN.ipynb",
      "provenance": [],
      "collapsed_sections": [],
      "toc_visible": true
    }
  },
  "cells": [
    {
      "cell_type": "markdown",
      "metadata": {
        "id": "RdxcBndqOFof"
      },
      "source": [
        "# Questão\n",
        "Em um Jupyter Notebook (link do collab ou arquivo), utilize o método K vizinhos mais próximos no problema supervisionado escolhido na Questão 2 OU 3 e:\n",
        "Aplique e explique os processos de pré-processamento necessários para execução do método K-NN.\n",
        "Escolha 5 valores de K e mostre os resultados (escolha uma métrica)?\n",
        "Escolha 2 métricas de similaridade (diferentes distâncias ou outras métricas) para definir o(s) vizinho(s) mais próximos?\n",
        "\n",
        "- Aplique e explique os processos de pré-processamento necessários para execução do método K-NN.\n",
        "- Escolha 5 valores de K e mostre os resultados (escolha uma métrica)?\n",
        "- Escolha 2 métricas de similaridade (diferentes distâncias ou outras métricas) para definir o(s) vizinho(s) mais próximos?"
      ]
    },
    {
      "cell_type": "markdown",
      "metadata": {
        "id": "2CPukbn1OFog"
      },
      "source": [
        "### Base usada:\n",
        "\n",
        "https://www.kaggle.com/priyanka841/breast-cancer-wisconsin?select=breast+cancer.csv"
      ]
    },
    {
      "cell_type": "code",
      "metadata": {
        "id": "Go-9Es3iOFoh",
        "outputId": "e294064d-2592-4f5b-c913-e40ce22b6681",
        "colab": {
          "base_uri": "https://localhost:8080/",
          "height": 432
        }
      },
      "source": [
        "import csv\n",
        "import pandas as pd\n",
        "import matplotlib.pyplot as plt\n",
        "import numpy as np\n",
        "from sklearn import cluster, neighbors, svm, metrics, preprocessing\n",
        "from sklearn.metrics import classification_report, confusion_matrix, plot_confusion_matrix\n",
        "from sklearn.model_selection import train_test_split\n",
        "\n",
        "with open('sample_data/breast_cancer.csv', newline='') as csvfile:\n",
        "    spamreader = csv.reader(csvfile, quotechar='|')\n",
        "    \n",
        "    X = []\n",
        "    y = []\n",
        "    \n",
        "    a = []\n",
        "    \n",
        "    for row in spamreader: # lendo informações do arquivo e adicionando num array\n",
        "        a.append(row)\n",
        "    \n",
        "    a = a[1:]\n",
        "    \n",
        "    for row in a: # fazendo o one hot encoding\n",
        "        if(row[1] == 'B'):\n",
        "            y.append(0)\n",
        "        else:\n",
        "            y.append(1)\n",
        "\n",
        "    for row in a: # retirando as 2 primeiras colunas que não serão utilizadas\n",
        "        X.append(row[2:])\n",
        "        \n",
        "    X = np.array(X, dtype = np.float64) # transformando itens do array de string para float\n",
        "\n",
        "    X_train, X_test, y_train, y_test = train_test_split(X, y, test_size=0.20)\n",
        "        \n",
        "    knn = neighbors.KNeighborsClassifier(n_neighbors = 3, algorithm = \"auto\")\n",
        "    knn.fit(X_train, y_train)\n",
        "    resultKNN = knn.predict(X_test)\n",
        "\n",
        "    print(classification_report(y_test, resultKNN))\n",
        "    \n",
        "    plot_confusion_matrix(knn, X_test, y_test, cmap=plt.cm.Blues)\n",
        "    plt.show()\n"
      ],
      "execution_count": 5,
      "outputs": [
        {
          "output_type": "stream",
          "text": [
            "              precision    recall  f1-score   support\n",
            "\n",
            "           0       0.93      0.97      0.95        68\n",
            "           1       0.95      0.89      0.92        46\n",
            "\n",
            "    accuracy                           0.94       114\n",
            "   macro avg       0.94      0.93      0.94       114\n",
            "weighted avg       0.94      0.94      0.94       114\n",
            "\n"
          ],
          "name": "stdout"
        },
        {
          "output_type": "display_data",
          "data": {
            "image/png": "[encoded data removed]",
            "text/plain": [
              "<Figure size 432x288 with 2 Axes>"
            ]
          },
          "metadata": {
            "tags": [],
            "needs_background": "light"
          }
        }
      ]
    },
    {
      "cell_type": "code",
      "metadata": {
        "id": "DId60CE1OFok"
      },
      "source": [
        ""
      ],
      "execution_count": null,
      "outputs": []
    }
  ]
}